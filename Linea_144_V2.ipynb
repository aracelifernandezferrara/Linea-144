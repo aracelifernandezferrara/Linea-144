{
 "cells": [
  {
   "cell_type": "markdown",
   "metadata": {},
   "source": [
    "## Librerias:"
   ]
  },
  {
   "cell_type": "code",
   "execution_count": 2,
   "metadata": {},
   "outputs": [],
   "source": [
    "import pandas as pd\n",
    "import numpy as np\n",
    "from sklearn.impute import SimpleImputer\n",
    "from sklearn.impute import KNNImputer"
   ]
  },
  {
   "cell_type": "code",
   "execution_count": 3,
   "metadata": {},
   "outputs": [
    {
     "data": {
      "text/html": [
       "<div>\n",
       "<style scoped>\n",
       "    .dataframe tbody tr th:only-of-type {\n",
       "        vertical-align: middle;\n",
       "    }\n",
       "\n",
       "    .dataframe tbody tr th {\n",
       "        vertical-align: top;\n",
       "    }\n",
       "\n",
       "    .dataframe thead th {\n",
       "        text-align: right;\n",
       "    }\n",
       "</style>\n",
       "<table border=\"1\" class=\"dataframe\">\n",
       "  <thead>\n",
       "    <tr style=\"text-align: right;\">\n",
       "      <th></th>\n",
       "      <th>Año</th>\n",
       "      <th>Fecha</th>\n",
       "      <th>prov_persona_en_situacion_violencia</th>\n",
       "      <th>genero_persona_en_situacion_de_violencia</th>\n",
       "      <th>edad_persona_en_situacion_de_violencia</th>\n",
       "      <th>pais_nacimiento_persona_en_situacion_de_violencia</th>\n",
       "      <th>tipo_de_violencia_fisica</th>\n",
       "      <th>tipo_de_violencia_psicologica</th>\n",
       "      <th>tipo_de_violencia_sexual</th>\n",
       "      <th>tipo_de_violencia_economica_y_patrimonial</th>\n",
       "      <th>...</th>\n",
       "      <th>tipo_de_violencia_domestica</th>\n",
       "      <th>modalidad_de_violencia_institucional</th>\n",
       "      <th>modalidad_de_violencia_laboral</th>\n",
       "      <th>modalidad_violencia_contra_libertad_reproductiva</th>\n",
       "      <th>modalidad_de_violencia_obstetrica</th>\n",
       "      <th>modalidad_de_violencia_mediatica</th>\n",
       "      <th>modalidad_de_violencia_otras</th>\n",
       "      <th>vinculo_con_la_persona_agresora</th>\n",
       "      <th>genero_de_la_persona_agresora</th>\n",
       "      <th>poblacion_provincia</th>\n",
       "    </tr>\n",
       "  </thead>\n",
       "  <tbody>\n",
       "    <tr>\n",
       "      <th>0</th>\n",
       "      <td>2023</td>\n",
       "      <td>1/1/2023</td>\n",
       "      <td>Buenos Aires</td>\n",
       "      <td>Mujer</td>\n",
       "      <td>NaN</td>\n",
       "      <td>NaN</td>\n",
       "      <td>Si</td>\n",
       "      <td>Si</td>\n",
       "      <td>No</td>\n",
       "      <td>No</td>\n",
       "      <td>...</td>\n",
       "      <td>Si</td>\n",
       "      <td>No</td>\n",
       "      <td>No</td>\n",
       "      <td>No</td>\n",
       "      <td>No</td>\n",
       "      <td>No</td>\n",
       "      <td>No</td>\n",
       "      <td>Pareja</td>\n",
       "      <td>Varon</td>\n",
       "      <td>17569053</td>\n",
       "    </tr>\n",
       "    <tr>\n",
       "      <th>1</th>\n",
       "      <td>2023</td>\n",
       "      <td>1/1/2023</td>\n",
       "      <td>Buenos Aires</td>\n",
       "      <td>Mujer</td>\n",
       "      <td>19.0</td>\n",
       "      <td>Argentina</td>\n",
       "      <td>Si</td>\n",
       "      <td>Si</td>\n",
       "      <td>Si</td>\n",
       "      <td>No</td>\n",
       "      <td>...</td>\n",
       "      <td>No</td>\n",
       "      <td>No</td>\n",
       "      <td>No</td>\n",
       "      <td>No</td>\n",
       "      <td>No</td>\n",
       "      <td>No</td>\n",
       "      <td>No</td>\n",
       "      <td>Otro</td>\n",
       "      <td>Varon</td>\n",
       "      <td>17569053</td>\n",
       "    </tr>\n",
       "    <tr>\n",
       "      <th>2</th>\n",
       "      <td>2023</td>\n",
       "      <td>1/1/2023</td>\n",
       "      <td>Buenos Aires</td>\n",
       "      <td>Mujer</td>\n",
       "      <td>46.0</td>\n",
       "      <td>Argentina</td>\n",
       "      <td>Si</td>\n",
       "      <td>Si</td>\n",
       "      <td>No</td>\n",
       "      <td>No</td>\n",
       "      <td>...</td>\n",
       "      <td>Si</td>\n",
       "      <td>No</td>\n",
       "      <td>No</td>\n",
       "      <td>No</td>\n",
       "      <td>No</td>\n",
       "      <td>No</td>\n",
       "      <td>No</td>\n",
       "      <td>Pareja</td>\n",
       "      <td>Varon</td>\n",
       "      <td>17569053</td>\n",
       "    </tr>\n",
       "    <tr>\n",
       "      <th>3</th>\n",
       "      <td>2023</td>\n",
       "      <td>1/1/2023</td>\n",
       "      <td>Entre Ríos</td>\n",
       "      <td>Mujer</td>\n",
       "      <td>28.0</td>\n",
       "      <td>NaN</td>\n",
       "      <td>No</td>\n",
       "      <td>Si</td>\n",
       "      <td>No</td>\n",
       "      <td>No</td>\n",
       "      <td>...</td>\n",
       "      <td>Si</td>\n",
       "      <td>No</td>\n",
       "      <td>No</td>\n",
       "      <td>No</td>\n",
       "      <td>No</td>\n",
       "      <td>No</td>\n",
       "      <td>No</td>\n",
       "      <td>Pareja</td>\n",
       "      <td>Varon</td>\n",
       "      <td>1426426</td>\n",
       "    </tr>\n",
       "    <tr>\n",
       "      <th>4</th>\n",
       "      <td>2023</td>\n",
       "      <td>1/1/2023</td>\n",
       "      <td>Mendoza</td>\n",
       "      <td>Mujer</td>\n",
       "      <td>34.0</td>\n",
       "      <td>Argentina</td>\n",
       "      <td>No</td>\n",
       "      <td>Si</td>\n",
       "      <td>No</td>\n",
       "      <td>No</td>\n",
       "      <td>...</td>\n",
       "      <td>Si</td>\n",
       "      <td>No</td>\n",
       "      <td>No</td>\n",
       "      <td>No</td>\n",
       "      <td>No</td>\n",
       "      <td>No</td>\n",
       "      <td>No</td>\n",
       "      <td>Ex pareja</td>\n",
       "      <td>Varon</td>\n",
       "      <td>2014533</td>\n",
       "    </tr>\n",
       "  </tbody>\n",
       "</table>\n",
       "<p>5 rows × 21 columns</p>\n",
       "</div>"
      ],
      "text/plain": [
       "    Año     Fecha prov_persona_en_situacion_violencia  \\\n",
       "0  2023  1/1/2023                        Buenos Aires   \n",
       "1  2023  1/1/2023                        Buenos Aires   \n",
       "2  2023  1/1/2023                        Buenos Aires   \n",
       "3  2023  1/1/2023                          Entre Ríos   \n",
       "4  2023  1/1/2023                             Mendoza   \n",
       "\n",
       "  genero_persona_en_situacion_de_violencia  \\\n",
       "0                                    Mujer   \n",
       "1                                    Mujer   \n",
       "2                                    Mujer   \n",
       "3                                    Mujer   \n",
       "4                                    Mujer   \n",
       "\n",
       "   edad_persona_en_situacion_de_violencia  \\\n",
       "0                                     NaN   \n",
       "1                                    19.0   \n",
       "2                                    46.0   \n",
       "3                                    28.0   \n",
       "4                                    34.0   \n",
       "\n",
       "  pais_nacimiento_persona_en_situacion_de_violencia tipo_de_violencia_fisica  \\\n",
       "0                                               NaN                       Si   \n",
       "1                                         Argentina                       Si   \n",
       "2                                         Argentina                       Si   \n",
       "3                                               NaN                       No   \n",
       "4                                         Argentina                       No   \n",
       "\n",
       "  tipo_de_violencia_psicologica tipo_de_violencia_sexual  \\\n",
       "0                            Si                       No   \n",
       "1                            Si                       Si   \n",
       "2                            Si                       No   \n",
       "3                            Si                       No   \n",
       "4                            Si                       No   \n",
       "\n",
       "  tipo_de_violencia_economica_y_patrimonial  ... tipo_de_violencia_domestica  \\\n",
       "0                                        No  ...                          Si   \n",
       "1                                        No  ...                          No   \n",
       "2                                        No  ...                          Si   \n",
       "3                                        No  ...                          Si   \n",
       "4                                        No  ...                          Si   \n",
       "\n",
       "  modalidad_de_violencia_institucional modalidad_de_violencia_laboral  \\\n",
       "0                                   No                             No   \n",
       "1                                   No                             No   \n",
       "2                                   No                             No   \n",
       "3                                   No                             No   \n",
       "4                                   No                             No   \n",
       "\n",
       "  modalidad_violencia_contra_libertad_reproductiva  \\\n",
       "0                                               No   \n",
       "1                                               No   \n",
       "2                                               No   \n",
       "3                                               No   \n",
       "4                                               No   \n",
       "\n",
       "  modalidad_de_violencia_obstetrica modalidad_de_violencia_mediatica  \\\n",
       "0                                No                               No   \n",
       "1                                No                               No   \n",
       "2                                No                               No   \n",
       "3                                No                               No   \n",
       "4                                No                               No   \n",
       "\n",
       "  modalidad_de_violencia_otras vinculo_con_la_persona_agresora  \\\n",
       "0                           No                          Pareja   \n",
       "1                           No                            Otro   \n",
       "2                           No                          Pareja   \n",
       "3                           No                          Pareja   \n",
       "4                           No                       Ex pareja   \n",
       "\n",
       "  genero_de_la_persona_agresora poblacion_provincia  \n",
       "0                         Varon            17569053  \n",
       "1                         Varon            17569053  \n",
       "2                         Varon            17569053  \n",
       "3                         Varon             1426426  \n",
       "4                         Varon             2014533  \n",
       "\n",
       "[5 rows x 21 columns]"
      ]
     },
     "execution_count": 3,
     "metadata": {},
     "output_type": "execute_result"
    }
   ],
   "source": [
    "dataset = \"C:/Users/fer14538/Downloads/Base.csv\"\n",
    "df = pd.read_csv(dataset, sep=\",\", encoding='latin-1' )\n",
    "df.head()"
   ]
  },
  {
   "cell_type": "code",
   "execution_count": 5,
   "metadata": {},
   "outputs": [
    {
     "name": "stdout",
     "output_type": "stream",
     "text": [
      "<class 'pandas.core.frame.DataFrame'>\n",
      "RangeIndex: 89540 entries, 0 to 89539\n",
      "Data columns (total 21 columns):\n",
      " #   Column                                             Non-Null Count  Dtype  \n",
      "---  ------                                             --------------  -----  \n",
      " 0   Año                                                89540 non-null  int64  \n",
      " 1   Fecha                                              89540 non-null  object \n",
      " 2   prov_persona_en_situacion_violencia                89540 non-null  object \n",
      " 3   genero_persona_en_situacion_de_violencia           87636 non-null  object \n",
      " 4   edad_persona_en_situacion_de_violencia             72262 non-null  float64\n",
      " 5   pais_nacimiento_persona_en_situacion_de_violencia  59259 non-null  object \n",
      " 6   tipo_de_violencia_fisica                           89540 non-null  object \n",
      " 7   tipo_de_violencia_psicologica                      89540 non-null  object \n",
      " 8   tipo_de_violencia_sexual                           89540 non-null  object \n",
      " 9   tipo_de_violencia_economica_y_patrimonial          89540 non-null  object \n",
      " 10  tipo_de_violencia_simbolica                        89540 non-null  object \n",
      " 11  tipo_de_violencia_domestica                        89540 non-null  object \n",
      " 12  modalidad_de_violencia_institucional               89540 non-null  object \n",
      " 13  modalidad_de_violencia_laboral                     89540 non-null  object \n",
      " 14  modalidad_violencia_contra_libertad_reproductiva   89540 non-null  object \n",
      " 15  modalidad_de_violencia_obstetrica                  89540 non-null  object \n",
      " 16  modalidad_de_violencia_mediatica                   89540 non-null  object \n",
      " 17  modalidad_de_violencia_otras                       89540 non-null  object \n",
      " 18  vinculo_con_la_persona_agresora                    86145 non-null  object \n",
      " 19  genero_de_la_persona_agresora                      80327 non-null  object \n",
      " 20  poblacion_provincia                                88228 non-null  object \n",
      "dtypes: float64(1), int64(1), object(19)\n",
      "memory usage: 14.3+ MB\n"
     ]
    }
   ],
   "source": [
    "df.info()"
   ]
  },
  {
   "cell_type": "code",
   "execution_count": 6,
   "metadata": {},
   "outputs": [],
   "source": [
    "df[\"Fecha\"] = pd.to_datetime(df[\"Fecha\"])"
   ]
  },
  {
   "cell_type": "markdown",
   "metadata": {},
   "source": [
    "## Imputacion de datos faltantes:"
   ]
  },
  {
   "cell_type": "code",
   "execution_count": 7,
   "metadata": {},
   "outputs": [
    {
     "name": "stdout",
     "output_type": "stream",
     "text": [
      "Año                                                      0\n",
      "Fecha                                                    0\n",
      "prov_persona_en_situacion_violencia                      0\n",
      "genero_persona_en_situacion_de_violencia              1904\n",
      "edad_persona_en_situacion_de_violencia               17278\n",
      "pais_nacimiento_persona_en_situacion_de_violencia    30281\n",
      "tipo_de_violencia_fisica                                 0\n",
      "tipo_de_violencia_psicologica                            0\n",
      "tipo_de_violencia_sexual                                 0\n",
      "tipo_de_violencia_economica_y_patrimonial                0\n",
      "tipo_de_violencia_simbolica                              0\n",
      "tipo_de_violencia_domestica                              0\n",
      "modalidad_de_violencia_institucional                     0\n",
      "modalidad_de_violencia_laboral                           0\n",
      "modalidad_violencia_contra_libertad_reproductiva         0\n",
      "modalidad_de_violencia_obstetrica                        0\n",
      "modalidad_de_violencia_mediatica                         0\n",
      "modalidad_de_violencia_otras                             0\n",
      "vinculo_con_la_persona_agresora                       3395\n",
      "genero_de_la_persona_agresora                         9213\n",
      "poblacion_provincia                                   1312\n",
      "dtype: int64\n"
     ]
    }
   ],
   "source": [
    "total_nulls = df.isnull().sum()\n",
    "print(total_nulls)"
   ]
  },
  {
   "cell_type": "markdown",
   "metadata": {},
   "source": [
    "### Mediana:"
   ]
  },
  {
   "cell_type": "code",
   "execution_count": 8,
   "metadata": {},
   "outputs": [],
   "source": [
    "imputer = SimpleImputer(strategy='median')  # O 'median' para mediana\n",
    "col_1 = df[[\"edad_persona_en_situacion_de_violencia\"]]\n",
    "col_1_imputada = imputer.fit_transform(col_1)\n",
    "df[\"edad_persona_en_situacion_de_violencia\"] = col_1_imputada"
   ]
  },
  {
   "cell_type": "markdown",
   "metadata": {},
   "source": [
    "### Moda:"
   ]
  },
  {
   "cell_type": "code",
   "execution_count": 9,
   "metadata": {},
   "outputs": [],
   "source": [
    "imputer = SimpleImputer(strategy='most_frequent')  # O 'median' para mediana\n",
    "col_2 = df[[\"genero_persona_en_situacion_de_violencia\"]]\n",
    "col_2_imputada = imputer.fit_transform(col_2)\n",
    "df[\"genero_persona_en_situacion_de_violencia\"] = col_2_imputada"
   ]
  },
  {
   "cell_type": "code",
   "execution_count": 10,
   "metadata": {},
   "outputs": [
    {
     "data": {
      "text/plain": [
       "genero_persona_en_situacion_de_violencia  genero_persona_en_situacion_de_violencia\n",
       "Intersexual                               Intersexual                                     4\n",
       "Mujer                                     Mujer                                       88787\n",
       "Mujer Trans                               Mujer Trans                                   141\n",
       "No Binarie                                No Binarie                                      3\n",
       "Otro                                      Otro                                           67\n",
       "Queer                                     Queer                                           1\n",
       "Transgenero                               Transgenero                                   151\n",
       "Travesti                                  Travesti                                       11\n",
       "Varon                                     Varon                                         349\n",
       "Varon Trans                               Varon Trans                                    12\n",
       "Varon trans                               Varon trans                                     1\n",
       "Varón Trans                               Varón Trans                                    13\n",
       "Name: genero_persona_en_situacion_de_violencia, dtype: int64"
      ]
     },
     "execution_count": 10,
     "metadata": {},
     "output_type": "execute_result"
    }
   ],
   "source": [
    "df.groupby(\"genero_persona_en_situacion_de_violencia\").genero_persona_en_situacion_de_violencia.value_counts()"
   ]
  },
  {
   "cell_type": "code",
   "execution_count": 11,
   "metadata": {},
   "outputs": [],
   "source": [
    "df[\"genero_persona_en_situacion_de_violencia\"] = df[\"genero_persona_en_situacion_de_violencia\"].replace(\"Varon trans\", \"Varon Trans\")"
   ]
  },
  {
   "cell_type": "code",
   "execution_count": 23,
   "metadata": {},
   "outputs": [],
   "source": [
    "imputer = SimpleImputer(strategy='most_frequent')  # O 'median' para mediana\n",
    "col_3 = df[[\"poblacion_provincia\"]]\n",
    "col_3_imputada = imputer.fit_transform(col_3)\n",
    "df[\"poblacion_provincia\"] = col_3_imputada"
   ]
  },
  {
   "cell_type": "code",
   "execution_count": 22,
   "metadata": {},
   "outputs": [
    {
     "data": {
      "text/plain": [
       "prov_persona_en_situacion_violencia  prov_persona_en_situacion_violencia\n",
       "Buenos Aires                         Buenos Aires                           48565\n",
       "CABA                                 CABA                                   17397\n",
       "Santa Fe                             Santa Fe                                3785\n",
       "Tucuman                              Tucuman                                 3224\n",
       "Mendoza                              Mendoza                                 3132\n",
       "Córdoba                              Córdoba                                 2610\n",
       "Sin datos                            Sin datos                               1287\n",
       "Jujuy                                Jujuy                                   1252\n",
       "Salta                                Salta                                   1232\n",
       "Chaco                                Chaco                                    801\n",
       "San Luis                             San Luis                                 733\n",
       "San Juan                             San Juan                                 654\n",
       "Entre Rios                           Entre Rios                               631\n",
       "Neuquen                              Neuquen                                  613\n",
       "Misiones                             Misiones                                 545\n",
       "Corrientes                           Corrientes                               512\n",
       "Santiago Del Estero                  Santiago Del Estero                      494\n",
       "Rio Negro                            Rio Negro                                454\n",
       "Formosa                              Formosa                                  333\n",
       "Catamarca                            Catamarca                                298\n",
       "La Rioja                             La Rioja                                 291\n",
       "Chubut                               Chubut                                   280\n",
       "Santa Cruz                           Santa Cruz                               140\n",
       "La Pampa                             La Pampa                                  92\n",
       "Tierra del Fuego                     Tierra del Fuego                          92\n",
       "Santiago del Estero                  Santiago del Estero                       68\n",
       "Sin Datos                            Sin Datos                                 25\n",
       "Name: prov_persona_en_situacion_violencia, dtype: int64"
      ]
     },
     "execution_count": 22,
     "metadata": {},
     "output_type": "execute_result"
    }
   ],
   "source": [
    "df.groupby(\"prov_persona_en_situacion_violencia\").prov_persona_en_situacion_violencia.value_counts().sort_values(ascending=False)"
   ]
  },
  {
   "cell_type": "code",
   "execution_count": 20,
   "metadata": {},
   "outputs": [],
   "source": [
    "replace_values = {\"Ciudad Autónoma de Buenos Aires\": \"CABA\" , \"Entre Ríos\": \"Entre Rios\" , \"Neuquén\": \"Neuquen\" , \"Río Negro\": \"Rio Negro\",\n",
    "                  \"Tierra del Fuego, Antártida e Islas del Atlántico Sur\": \"Tierra del Fuego\" , \"Tucumán\": \"Tucuman\"}\n",
    "df[\"prov_persona_en_situacion_violencia\"]=df[\"prov_persona_en_situacion_violencia\"].replace(replace_values)"
   ]
  },
  {
   "cell_type": "code",
   "execution_count": 13,
   "metadata": {},
   "outputs": [],
   "source": [
    "imputer = SimpleImputer(strategy='most_frequent')  # O 'median' para mediana\n",
    "col_4 = df[[\"pais_nacimiento_persona_en_situacion_de_violencia\"]]\n",
    "col_4_imputada = imputer.fit_transform(col_4)\n",
    "df[\"pais_nacimiento_persona_en_situacion_de_violencia\"] = col_4_imputada"
   ]
  },
  {
   "cell_type": "code",
   "execution_count": 14,
   "metadata": {},
   "outputs": [
    {
     "data": {
      "text/plain": [
       "pais_nacimiento_persona_en_situacion_de_violencia  pais_nacimiento_persona_en_situacion_de_violencia\n",
       "Argentina                                          Argentina                                            83223\n",
       "Paraguaya                                          Paraguaya                                             2553\n",
       "Boliviana                                          Boliviana                                             1290\n",
       "Peruana                                            Peruana                                                989\n",
       "Venezolana                                         Venezolana                                             476\n",
       "Colombiana                                         Colombiana                                             237\n",
       "Uruguaya                                           Uruguaya                                               201\n",
       "Brasileña                                          Brasileña                                              146\n",
       "Chilena                                            Chilena                                                131\n",
       "Otra                                               Otra                                                   111\n",
       "Otro                                               Otro                                                    44\n",
       "Dominicana                                         Dominicana                                              23\n",
       "Estadounidense                                     Estadounidense                                          13\n",
       "Española                                           Española                                                12\n",
       "Ecuatoriana                                        Ecuatoriana                                             12\n",
       "Armenia                                            Armenia                                                 10\n",
       "Alemana                                            Alemana                                                  8\n",
       "Mexicana                                           Mexicana                                                 8\n",
       "Cubana                                             Cubana                                                   7\n",
       "Australiana                                        Australiana                                              6\n",
       "ARMENIA                                            ARMENIA                                                  5\n",
       "Italiana                                           Italiana                                                 5\n",
       "Salvadoreña                                        Salvadoreña                                              3\n",
       "Japonesa                                           Japonesa                                                 2\n",
       "Rusa                                               Rusa                                                     2\n",
       "Arabe                                              Arabe                                                    2\n",
       "Belga                                              Belga                                                    2\n",
       "Guatemalteca                                       Guatemalteca                                             2\n",
       "Turca                                              Turca                                                    1\n",
       "Palestina                                          Palestina                                                1\n",
       "Ucraniana                                          Ucraniana                                                1\n",
       "Panameña                                           Panameña                                                 1\n",
       "Vietnamita                                         Vietnamita                                               1\n",
       "ARABE                                              ARABE                                                    1\n",
       "Nicaragüense                                       Nicaragüense                                             1\n",
       "Lituania                                           Lituania                                                 1\n",
       "Libano                                             Libano                                                   1\n",
       "Letona                                             Letona                                                   1\n",
       "Israelí                                            Israelí                                                  1\n",
       "Griega                                             Griega                                                   1\n",
       "Francesa                                           Francesa                                                 1\n",
       "EspaÃ±ola                                          EspaÃ±ola                                                1\n",
       "Costarricense                                      Costarricense                                            1\n",
       "Canadiense                                         Canadiense                                               1\n",
       "peruana                                            peruana                                                  1\n",
       "Name: pais_nacimiento_persona_en_situacion_de_violencia, dtype: int64"
      ]
     },
     "execution_count": 14,
     "metadata": {},
     "output_type": "execute_result"
    }
   ],
   "source": [
    "df.groupby([\"pais_nacimiento_persona_en_situacion_de_violencia\"]).pais_nacimiento_persona_en_situacion_de_violencia.value_counts().sort_values(ascending=False)"
   ]
  },
  {
   "cell_type": "code",
   "execution_count": 15,
   "metadata": {},
   "outputs": [],
   "source": [
    "imputer = SimpleImputer(strategy='most_frequent')\n",
    "col_5 = df[[\"vinculo_con_la_persona_agresora\"]]\n",
    "col_5_imputada = imputer.fit_transform(col_5)\n",
    "df[\"vinculo_con_la_persona_agresora\"] = col_5_imputada"
   ]
  },
  {
   "cell_type": "code",
   "execution_count": 16,
   "metadata": {},
   "outputs": [
    {
     "data": {
      "text/plain": [
       "vinculo_con_la_persona_agresora  vinculo_con_la_persona_agresora\n",
       "Ex pareja                        Ex pareja                          45642\n",
       "Pareja                           Pareja                             32254\n",
       "Otro                             Otro                                6804\n",
       "Otro familiar                    Otro familiar                       3182\n",
       "Padre o tutor                    Padre o tutor                       1082\n",
       "Superior jerarquico              Superior jerarquico                  406\n",
       "Madre o tutor                    Madre o tutor                        170\n",
       "Name: vinculo_con_la_persona_agresora, dtype: int64"
      ]
     },
     "execution_count": 16,
     "metadata": {},
     "output_type": "execute_result"
    }
   ],
   "source": [
    "df.groupby([\"vinculo_con_la_persona_agresora\"]).vinculo_con_la_persona_agresora.value_counts().sort_values(ascending=False)"
   ]
  },
  {
   "cell_type": "code",
   "execution_count": 17,
   "metadata": {},
   "outputs": [],
   "source": [
    "imputer = SimpleImputer(strategy='most_frequent')\n",
    "col_6 = df[[\"genero_de_la_persona_agresora\"]]\n",
    "col_6_imputada = imputer.fit_transform(col_6)\n",
    "df[\"genero_de_la_persona_agresora\"] = col_6_imputada "
   ]
  },
  {
   "cell_type": "code",
   "execution_count": 18,
   "metadata": {},
   "outputs": [
    {
     "data": {
      "text/plain": [
       "genero_de_la_persona_agresora  genero_de_la_persona_agresora\n",
       "Varon                          Varon                            88238\n",
       "Mujer                          Mujer                             1034\n",
       "Otro                           Otro                               222\n",
       "Varon Trans                    Varon Trans                         19\n",
       "Mujer Trans                    Mujer Trans                         10\n",
       "Transgenero                    Transgenero                          9\n",
       "Varon trans                    Varon trans                          3\n",
       "Travesti                       Travesti                             2\n",
       "No Binarie                     No Binarie                           1\n",
       "OTRO                           OTRO                                 1\n",
       "Queer                          Queer                                1\n",
       "Name: genero_de_la_persona_agresora, dtype: int64"
      ]
     },
     "execution_count": 18,
     "metadata": {},
     "output_type": "execute_result"
    }
   ],
   "source": [
    "df.groupby([\"genero_de_la_persona_agresora\"]).genero_de_la_persona_agresora.value_counts().sort_values(ascending=False)"
   ]
  },
  {
   "cell_type": "code",
   "execution_count": 24,
   "metadata": {},
   "outputs": [
    {
     "name": "stdout",
     "output_type": "stream",
     "text": [
      "Año                                                  0\n",
      "Fecha                                                0\n",
      "prov_persona_en_situacion_violencia                  0\n",
      "genero_persona_en_situacion_de_violencia             0\n",
      "edad_persona_en_situacion_de_violencia               0\n",
      "pais_nacimiento_persona_en_situacion_de_violencia    0\n",
      "tipo_de_violencia_fisica                             0\n",
      "tipo_de_violencia_psicologica                        0\n",
      "tipo_de_violencia_sexual                             0\n",
      "tipo_de_violencia_economica_y_patrimonial            0\n",
      "tipo_de_violencia_simbolica                          0\n",
      "tipo_de_violencia_domestica                          0\n",
      "modalidad_de_violencia_institucional                 0\n",
      "modalidad_de_violencia_laboral                       0\n",
      "modalidad_violencia_contra_libertad_reproductiva     0\n",
      "modalidad_de_violencia_obstetrica                    0\n",
      "modalidad_de_violencia_mediatica                     0\n",
      "modalidad_de_violencia_otras                         0\n",
      "vinculo_con_la_persona_agresora                      0\n",
      "genero_de_la_persona_agresora                        0\n",
      "poblacion_provincia                                  0\n",
      "dtype: int64\n"
     ]
    }
   ],
   "source": [
    "total_nulls_post_imputacion = df.isnull().sum()\n",
    "print(total_nulls_post_imputacion)"
   ]
  }
 ],
 "metadata": {
  "kernelspec": {
   "display_name": "base",
   "language": "python",
   "name": "python3"
  },
  "language_info": {
   "codemirror_mode": {
    "name": "ipython",
    "version": 3
   },
   "file_extension": ".py",
   "mimetype": "text/x-python",
   "name": "python",
   "nbconvert_exporter": "python",
   "pygments_lexer": "ipython3",
   "version": "3.9.7"
  }
 },
 "nbformat": 4,
 "nbformat_minor": 2
}
